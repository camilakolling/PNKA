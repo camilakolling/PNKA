{
 "cells": [
  {
   "cell_type": "code",
   "execution_count": 1,
   "id": "formed-semester",
   "metadata": {},
   "outputs": [],
   "source": [
    "import torch\n",
    "from pnka import pnka"
   ]
  },
  {
   "cell_type": "code",
   "execution_count": 2,
   "id": "processed-string",
   "metadata": {},
   "outputs": [],
   "source": [
    "# Replace Y and Z with two sets of representations\n",
    "torch.manual_seed(1337)\n",
    "Y = torch.randn(100, 10)\n",
    "Z = torch.randn(100, 10) + Y"
   ]
  },
  {
   "cell_type": "code",
   "execution_count": 3,
   "id": "eleven-definition",
   "metadata": {},
   "outputs": [
    {
     "data": {
      "text/plain": [
       "tensor([ 0.3497,  0.5948,  0.4663,  0.5269,  0.6492,  0.6886,  0.4985,  0.4482,\n",
       "         0.5675,  0.6275,  0.4812,  0.6063,  0.6474,  0.5924,  0.3593,  0.6428,\n",
       "         0.6214,  0.4247,  0.3357,  0.5988,  0.6596,  0.3677, -0.0440,  0.3999,\n",
       "         0.4782,  0.6354,  0.5629,  0.4109,  0.6949,  0.5647,  0.2162,  0.6536,\n",
       "         0.5836,  0.6185,  0.7432,  0.7427,  0.4974,  0.5423,  0.5427,  0.6884,\n",
       "         0.6761,  0.6868,  0.7191,  0.6648,  0.7151,  0.6592,  0.4276,  0.5576,\n",
       "         0.4373,  0.6223,  0.4306,  0.6413,  0.7453,  0.4913,  0.4653,  0.6656,\n",
       "         0.5390,  0.2387,  0.3416,  0.6624,  0.6111,  0.6890,  0.6454,  0.5091,\n",
       "         0.7486,  0.4919,  0.5937,  0.7051,  0.6525,  0.3147,  0.5815,  0.6454,\n",
       "         0.7500,  0.7632,  0.2727,  0.6555,  0.4301,  0.2546,  0.6486,  0.4878,\n",
       "         0.6059,  0.6209,  0.5299,  0.6345,  0.7200,  0.6011,  0.5318,  0.5612,\n",
       "         0.6350,  0.6857,  0.2128,  0.5978,  0.5120,  0.6220,  0.4472,  0.5690,\n",
       "         0.4916,  0.2871,  0.6124,  0.7512])"
      ]
     },
     "execution_count": 3,
     "metadata": {},
     "output_type": "execute_result"
    }
   ],
   "source": [
    "# Compute a vector of pointwise similarity scores\n",
    "pointwise_similarities = pnka(Y, Z)\n",
    "pointwise_similarities"
   ]
  },
  {
   "cell_type": "code",
   "execution_count": 4,
   "id": "interstate-participant",
   "metadata": {},
   "outputs": [
    {
     "data": {
      "text/plain": [
       "tensor(0.3497)"
      ]
     },
     "execution_count": 4,
     "metadata": {},
     "output_type": "execute_result"
    }
   ],
   "source": [
    "# The similarity score of the first point\n",
    "first_similarity_score = pointwise_similarities[0]\n",
    "first_similarity_score"
   ]
  },
  {
   "cell_type": "code",
   "execution_count": 5,
   "id": "statistical-kingston",
   "metadata": {},
   "outputs": [
    {
     "data": {
      "text/plain": [
       "tensor(0.5535)"
      ]
     },
     "execution_count": 5,
     "metadata": {},
     "output_type": "execute_result"
    }
   ],
   "source": [
    "# An aggregate of the representation similarity across all points\n",
    "aggregated_similarity = pointwise_similarities.mean()\n",
    "aggregated_similarity"
   ]
  },
  {
   "cell_type": "code",
   "execution_count": null,
   "id": "quality-leave",
   "metadata": {},
   "outputs": [],
   "source": []
  }
 ],
 "metadata": {
  "kernelspec": {
   "display_name": "(newadv2)",
   "language": "python",
   "name": "newadv2"
  },
  "language_info": {
   "codemirror_mode": {
    "name": "ipython",
    "version": 3
   },
   "file_extension": ".py",
   "mimetype": "text/x-python",
   "name": "python",
   "nbconvert_exporter": "python",
   "pygments_lexer": "ipython3",
   "version": "3.8.5"
  }
 },
 "nbformat": 4,
 "nbformat_minor": 5
}
